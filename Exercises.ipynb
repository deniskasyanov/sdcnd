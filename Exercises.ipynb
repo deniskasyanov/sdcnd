{
 "cells": [
  {
   "cell_type": "markdown",
   "metadata": {},
   "source": [
    "# Notebook modes\n",
    "\n",
    "**Exercise:** Try to switch between Edit mode and Command mode in the cell below"
   ]
  },
  {
   "cell_type": "code",
   "execution_count": null,
   "metadata": {
    "collapsed": true
   },
   "outputs": [],
   "source": []
  },
  {
   "cell_type": "markdown",
   "metadata": {},
   "source": [
    "# Cell types\n",
    "\n",
    "**Exercise:** Fix the types of the 2 cells below in a reasonable manner."
   ]
  },
  {
   "cell_type": "code",
   "execution_count": null,
   "metadata": {
    "collapsed": true
   },
   "outputs": [],
   "source": [
    "### Beatles:\n",
    "- John Lennon\n",
    "- Paul McCartney\n",
    "- George Harrison\n",
    "- Ringo Starr"
   ]
  },
  {
   "cell_type": "markdown",
   "metadata": {},
   "source": [
    "beatles = ['John Lennon', 'Paul McCartney', \n",
    "           'George Harrison', 'Ringo Starr']\n",
    "\n",
    "for person in beatles:\n",
    "    print(person)"
   ]
  },
  {
   "cell_type": "markdown",
   "metadata": {},
   "source": [
    "# Autocompletion\n",
    "\n",
    "**Exercise:** Try to import modules numpy and matplotlib.pyplot using autocompletion feature in the cell below."
   ]
  },
  {
   "cell_type": "code",
   "execution_count": null,
   "metadata": {
    "collapsed": true
   },
   "outputs": [],
   "source": []
  },
  {
   "cell_type": "markdown",
   "metadata": {},
   "source": [
    "# Documentation\n",
    "\n",
    "**Exercise:** Access documentation for the function `arange` in module `numpy`. Try all 4 modes."
   ]
  },
  {
   "cell_type": "code",
   "execution_count": null,
   "metadata": {
    "collapsed": true
   },
   "outputs": [],
   "source": []
  },
  {
   "cell_type": "markdown",
   "metadata": {},
   "source": [
    "# Shortcuts\n",
    "\n",
    "**Exercise:** Add one cell above and one cell below the cell with **hello world** program using only your keyboard."
   ]
  },
  {
   "cell_type": "code",
   "execution_count": null,
   "metadata": {
    "collapsed": true
   },
   "outputs": [],
   "source": [
    "print('hello world')"
   ]
  },
  {
   "cell_type": "markdown",
   "metadata": {},
   "source": [
    "**Exercise:** Change the type of the cells below. Use only keyboard this time."
   ]
  },
  {
   "cell_type": "code",
   "execution_count": null,
   "metadata": {
    "collapsed": true
   },
   "outputs": [],
   "source": [
    "### Beatles:\n",
    "- John Lennon\n",
    "- Paul McCartney\n",
    "- George Harrison\n",
    "- Ringo Starr"
   ]
  },
  {
   "cell_type": "markdown",
   "metadata": {},
   "source": [
    "beatles = ['John Lennon', 'Paul McCartney', \n",
    "           'George Harrison', 'Ringo Starr']\n",
    "\n",
    "for person in beatles:\n",
    "    print(person)"
   ]
  },
  {
   "cell_type": "markdown",
   "metadata": {},
   "source": [
    "**Exercise:** Remove cell below using only your keyboard."
   ]
  },
  {
   "cell_type": "code",
   "execution_count": null,
   "metadata": {
    "collapsed": true
   },
   "outputs": [],
   "source": [
    "# remove me"
   ]
  },
  {
   "cell_type": "markdown",
   "metadata": {},
   "source": [
    "**Exercise:** Split the cell below into two separate cells in a reasonable manner. There is no _right_ answer. The purpose is to practice using this shortcut."
   ]
  },
  {
   "cell_type": "code",
   "execution_count": null,
   "metadata": {
    "collapsed": true
   },
   "outputs": [],
   "source": [
    "# First comment\n",
    "# Second comment"
   ]
  },
  {
   "cell_type": "markdown",
   "metadata": {},
   "source": [
    "# Tricks\n",
    "\n",
    "**Exercise:** Download wine quality dataset without leaving this notebook using this link into working directory: https://archive.ics.uci.edu/ml/machine-learning-databases/wine-quality/winequality-white.csv"
   ]
  },
  {
   "cell_type": "code",
   "execution_count": null,
   "metadata": {
    "collapsed": true
   },
   "outputs": [],
   "source": [
    "# put your code here\n"
   ]
  },
  {
   "cell_type": "code",
   "execution_count": null,
   "metadata": {
    "collapsed": true
   },
   "outputs": [],
   "source": [
    "# Run this cell to check your download\n",
    "# If you've got True - Congratulations!\n",
    "\n",
    "import os.path\n",
    "os.path.isfile('winequality-white.csv')"
   ]
  },
  {
   "cell_type": "markdown",
   "metadata": {},
   "source": [
    "**Exercise:** Change code in the next cell so that there is no memory location string in the output. Also change style of this chart to make it look nicer."
   ]
  },
  {
   "cell_type": "code",
   "execution_count": null,
   "metadata": {
    "collapsed": true
   },
   "outputs": [],
   "source": [
    "import numpy as np\n",
    "import matplotlib.pyplot as plt\n",
    "%matplotlib inline\n",
    "\n",
    "# standard look\n",
    "\n",
    "x = [1,2,3]\n",
    "y = [2,4,5]\n",
    "plt.plot(x,y)"
   ]
  }
 ],
 "metadata": {
  "kernelspec": {
   "display_name": "Python 3",
   "language": "python",
   "name": "python3"
  },
  "language_info": {
   "codemirror_mode": {
    "name": "ipython",
    "version": 3
   },
   "file_extension": ".py",
   "mimetype": "text/x-python",
   "name": "python",
   "nbconvert_exporter": "python",
   "pygments_lexer": "ipython3",
   "version": "3.5.2"
  }
 },
 "nbformat": 4,
 "nbformat_minor": 0
}
